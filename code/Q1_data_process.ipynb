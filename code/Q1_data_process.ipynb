{
 "cells": [
  {
   "cell_type": "code",
   "execution_count": 1,
   "metadata": {},
   "outputs": [],
   "source": [
    "import matplotlib.pyplot as plt\n",
    "import seaborn as sns\n",
    "import numpy as np\n",
    "import pandas as pd\n",
    "import matplotlib as mpl\n",
    "PATH = '/Users/zachary/Desktop/'\n",
    "zhfont = mpl.font_manager.FontProperties(fname=PATH + 'simhei.ttf')"
   ]
  },
  {
   "cell_type": "markdown",
   "metadata": {},
   "source": [
    "## 预处理编号为285号和313号的历史数据"
   ]
  },
  {
   "cell_type": "code",
   "execution_count": 2,
   "metadata": {},
   "outputs": [],
   "source": [
    "PATH = 'data/'\n",
    "FileName = '附件三：285号和313号样本原始数据.xlsx'"
   ]
  },
  {
   "cell_type": "code",
   "execution_count": 3,
   "metadata": {},
   "outputs": [],
   "source": [
    "DF_285 = pd.read_excel(PATH + FileName, sheet_name='285')\n",
    "DF_313 = pd.read_excel(PATH + FileName, sheet_name='313')\n",
    "\n",
    "time_285 = DF_285['时间'].values[1:]\n",
    "var_data_285 = DF_285.values[1:, 1:].astype(np.float)\n",
    "time_313 = DF_285['时间'].values[1:]\n",
    "var_data_313 = DF_313.values[1:, 1:].astype(np.float)"
   ]
  },
  {
   "cell_type": "markdown",
   "metadata": {},
   "source": [
    "285号数据缺失统计"
   ]
  },
  {
   "cell_type": "code",
   "execution_count": 4,
   "metadata": {},
   "outputs": [],
   "source": [
    "stats_285, stats_313 = [], []\n",
    "nan_285_idx, nan_313_idx = [], []\n",
    "for j in range(var_data_285.shape[1]):\n",
    "    count_285 = np.sum(var_data_285[:,j] == 0)\n",
    "    stats_285.append(count_285/var_data_285.shape[0])\n",
    "    if count_285 > 0:\n",
    "        nan_285_idx.append(j)\n",
    "    \n",
    "    count_313 = np.sum(var_data_313[:,j] == 0)\n",
    "    stats_313.append(count_313/var_data_285.shape[0])\n",
    "    if count_313 >= 16:\n",
    "        nan_313_idx.append(j)"
   ]
  },
  {
   "cell_type": "code",
   "execution_count": 5,
   "metadata": {},
   "outputs": [
    {
     "data": {
      "image/png": "[encoded data removed]",
      "text/plain": [
       "<Figure size 1152x360 with 2 Axes>"
      ]
     },
     "metadata": {
      "needs_background": "light"
     },
     "output_type": "display_data"
    }
   ],
   "source": [
    "plt.figure(figsize=(16,5))\n",
    "plt.subplot(1,2,1)\n",
    "plt.bar(range(var_data_285.shape[1]) ,stats_285)\n",
    "plt.xlabel('285号样本对应操作变量', fontproperties=zhfont, fontsize=14)\n",
    "plt.ylabel('操作变量数据缺失率(%)', fontproperties=zhfont, fontsize=14)\n",
    "plt.grid(linestyle='--')\n",
    "\n",
    "\n",
    "plt.subplot(1,2,2)\n",
    "plt.bar(range(var_data_313.shape[1]) ,stats_313)\n",
    "plt.xlabel('313号样本对应操作变量', fontproperties=zhfont, fontsize=14)\n",
    "plt.ylabel('操作变量数据缺失率(%)', fontproperties=zhfont, fontsize=14)\n",
    "plt.grid(linestyle='--')\n",
    "\n",
    "plt.show()"
   ]
  },
  {
   "cell_type": "code",
   "execution_count": 6,
   "metadata": {},
   "outputs": [
    {
     "name": "stdout",
     "output_type": "stream",
     "text": [
      "number 285, nan ratio != 0: [ 24  45  73  95 109 150 204 207 215 298 331]\n",
      "number 313, nan ratio != 0: [ 24  45  95 108 150 161 174 204 207 215 283 298 329]\n"
     ]
    }
   ],
   "source": [
    "print('number 285, nan ratio != 0:', np.where(np.array(stats_285) != 0)[0])\n",
    "print('number 313, nan ratio != 0:', np.where(np.array(stats_313) != 0)[0])"
   ]
  },
  {
   "cell_type": "code",
   "execution_count": 7,
   "metadata": {},
   "outputs": [],
   "source": [
    "ratio_num_285, ratio_num_313 = [], []\n",
    "for ratio in [0, 0.05, 0.1, 0.41]:\n",
    "    ratio_num_285.append(np.sum(np.array(stats_285, dtype=np.float) >= ratio))\n",
    "    ratio_num_313.append(np.sum(np.array(stats_313, dtype=np.float) >= ratio))\n",
    "\n",
    "pie_285, pie_313 = [], []\n",
    "pie_285.append(ratio_num_285[-1])\n",
    "pie_313.append(ratio_num_313[-1])\n",
    "for i in range(1, len(ratio_num_285)):\n",
    "    idx = len(ratio_num_285) - i\n",
    "    pie_285.append(ratio_num_285[idx-1] - ratio_num_285[idx])\n",
    "    pie_313.append(ratio_num_313[idx-1] - ratio_num_313[idx])\n",
    "pie = np.array(pie_285) + np.array(pie_313)\n"
   ]
  },
  {
   "cell_type": "code",
   "execution_count": 8,
   "metadata": {},
   "outputs": [],
   "source": [
    "pie[1] = 4"
   ]
  },
  {
   "cell_type": "code",
   "execution_count": 1,
   "metadata": {},
   "outputs": [
    {
     "ename": "NameError",
     "evalue": "name 'plt' is not defined",
     "output_type": "error",
     "traceback": [
      "\u001b[0;31m---------------------------------------------------------------------------\u001b[0m",
      "\u001b[0;31mNameError\u001b[0m                                 Traceback (most recent call last)",
      "\u001b[0;32m<ipython-input-1-1af84e49b086>\u001b[0m in \u001b[0;36m<module>\u001b[0;34m\u001b[0m\n\u001b[0;32m----> 1\u001b[0;31m \u001b[0mplt\u001b[0m\u001b[0;34m.\u001b[0m\u001b[0mrcParams\u001b[0m\u001b[0;34m[\u001b[0m\u001b[0;34m'font.sans-serif'\u001b[0m\u001b[0;34m]\u001b[0m\u001b[0;34m=\u001b[0m\u001b[0;34m[\u001b[0m\u001b[0;34m'SimHei'\u001b[0m\u001b[0;34m]\u001b[0m\u001b[0;34m\u001b[0m\u001b[0;34m\u001b[0m\u001b[0m\n\u001b[0m\u001b[1;32m      2\u001b[0m \u001b[0;34m\u001b[0m\u001b[0m\n\u001b[1;32m      3\u001b[0m \u001b[0mplt\u001b[0m\u001b[0;34m.\u001b[0m\u001b[0mfigure\u001b[0m\u001b[0;34m(\u001b[0m\u001b[0mfigsize\u001b[0m\u001b[0;34m=\u001b[0m\u001b[0;34m(\u001b[0m\u001b[0;36m20\u001b[0m\u001b[0;34m,\u001b[0m \u001b[0;36m6.5\u001b[0m\u001b[0;34m)\u001b[0m\u001b[0;34m)\u001b[0m\u001b[0;34m\u001b[0m\u001b[0;34m\u001b[0m\u001b[0m\n\u001b[1;32m      4\u001b[0m \u001b[0mplt\u001b[0m\u001b[0;34m.\u001b[0m\u001b[0mpie\u001b[0m\u001b[0;34m(\u001b[0m\u001b[0mpie\u001b[0m\u001b[0;34m,\u001b[0m \u001b[0mexplode\u001b[0m\u001b[0;34m=\u001b[0m\u001b[0;34m(\u001b[0m\u001b[0;36m0\u001b[0m\u001b[0;34m,\u001b[0m\u001b[0;36m0.1\u001b[0m\u001b[0;34m,\u001b[0m\u001b[0;36m0.3\u001b[0m\u001b[0;34m,\u001b[0m\u001b[0;36m0.5\u001b[0m\u001b[0;34m)\u001b[0m\u001b[0;34m,\u001b[0m\u001b[0mautopct\u001b[0m\u001b[0;34m=\u001b[0m\u001b[0;34m'%.2f%%'\u001b[0m\u001b[0;34m,\u001b[0m\u001b[0mlabels\u001b[0m\u001b[0;34m=\u001b[0m\u001b[0;34m[\u001b[0m\u001b[0;34m'40%-100%'\u001b[0m\u001b[0;34m,\u001b[0m \u001b[0;34m'10%-40%'\u001b[0m\u001b[0;34m,\u001b[0m \u001b[0;34m'5%-10%'\u001b[0m\u001b[0;34m,\u001b[0m \u001b[0;34m'None'\u001b[0m\u001b[0;34m]\u001b[0m\u001b[0;34m)\u001b[0m\u001b[0;34m\u001b[0m\u001b[0;34m\u001b[0m\u001b[0m\n\u001b[1;32m      5\u001b[0m \u001b[0mplt\u001b[0m\u001b[0;34m.\u001b[0m\u001b[0mxlabel\u001b[0m\u001b[0;34m(\u001b[0m\u001b[0;34m'样本对应操作变量的缺失率统计'\u001b[0m\u001b[0;34m,\u001b[0m \u001b[0mfontproperties\u001b[0m\u001b[0;34m=\u001b[0m\u001b[0mzhfont\u001b[0m\u001b[0;34m,\u001b[0m \u001b[0mfontsize\u001b[0m\u001b[0;34m=\u001b[0m\u001b[0;36m14\u001b[0m\u001b[0;34m)\u001b[0m\u001b[0;34m\u001b[0m\u001b[0;34m\u001b[0m\u001b[0m\n",
      "\u001b[0;31mNameError\u001b[0m: name 'plt' is not defined"
     ]
    }
   ],
   "source": [
    "plt.rcParams['font.sans-serif']=['SimHei'] #用来正常显示中文标签\n",
    "\n",
    "plt.figure(figsize=(20, 6.5))\n",
    "plt.pie(pie, explode=(0,0.1,0.3,0.5),autopct='%.2f%%',labels=['40%-100%', '10%-40%', '5%-10%', 'None'], labeldistance=1)\n",
    "plt.xlabel('样本对应操作变量的缺失率统计', fontproperties=zhfont, fontsize=14)\n",
    "plt.legend(fontsize=14)"
   ]
  },
  {
   "cell_type": "markdown",
   "metadata": {},
   "source": [
    "## 针对不同缺失程度的数据，进行不同操作"
   ]
  },
  {
   "cell_type": "markdown",
   "metadata": {},
   "source": [
    "（1）对于编号为285和313的数据，分别使用规范值来约束，使用最大最小的方式来替换；\n",
    "（2）缺失数据：对于285号样本的缺失数据，因为全部为，所以不做任何处理；对于313编号的数据，若缺失率小于40%，分别进行基于滑动窗口进行均值填充\n",
    "（3）使用拉依达准则对有问题的数据进行处理；"
   ]
  },
  {
   "cell_type": "code",
   "execution_count": 10,
   "metadata": {},
   "outputs": [],
   "source": [
    "DF_standard = pd.read_excel(PATH + '附件四：354个操作变量信息.xlsx')\n",
    "\n",
    "name_standard = DF_standard['位号'].values\n",
    "scale_standard = DF_standard['取值范围'].values"
   ]
  },
  {
   "cell_type": "code",
   "execution_count": 11,
   "metadata": {},
   "outputs": [
    {
     "name": "stdout",
     "output_type": "stream",
     "text": [
      "num_285: 3 0 0\n",
      "num_313: 32 42 53\n"
     ]
    },
    {
     "name": "stderr",
     "output_type": "stream",
     "text": [
      "/Users/zachary/Desktop/AnacPython/lib/python3.7/site-packages/numpy/core/fromnumeric.py:3118: RuntimeWarning: Mean of empty slice.\n",
      "  out=out, **kwargs)\n",
      "/Users/zachary/Desktop/AnacPython/lib/python3.7/site-packages/numpy/core/_methods.py:85: RuntimeWarning: invalid value encountered in double_scalars\n",
      "  ret = ret.dtype.type(ret / rcount)\n",
      "/Users/zachary/Desktop/AnacPython/lib/python3.7/site-packages/ipykernel_launcher.py:56: RuntimeWarning: invalid value encountered in less\n",
      "/Users/zachary/Desktop/AnacPython/lib/python3.7/site-packages/ipykernel_launcher.py:57: RuntimeWarning: invalid value encountered in greater\n"
     ]
    }
   ],
   "source": [
    "def preprocess(var_data_285):\n",
    "    update_idx = []\n",
    "    sum1, sum2, sum3 = 0, 0, 0\n",
    "    for j in range(var_data_285.shape[1]):\n",
    "        # name 是编号285中操作变量的名称\n",
    "        name_285 = DF_285.columns[j+1]\n",
    "        if name_285 in name_standard:\n",
    "            idx_standard = np.where(name_standard == name_285)[0]\n",
    "            tmp_scale = scale_standard[idx_standard]\n",
    "            # 找到每个操作变量的上下范围（low-high）\n",
    "            if '-' == tmp_scale[0][0]:\n",
    "                tmp_scale = tmp_scale[0][1:]\n",
    "                idx1 = tmp_scale.index('-')\n",
    "                low = -float(tmp_scale[:idx1])\n",
    "                if '(' in tmp_scale:\n",
    "                    idx2 = tmp_scale.index('(')\n",
    "                    idx3 = tmp_scale.index(')')\n",
    "                    high = float(tmp_scale[idx2+1:idx3])\n",
    "                elif '（' in tmp_scale:\n",
    "                    idx2 = tmp_scale.index('（')\n",
    "                    idx3 = tmp_scale.index('）')\n",
    "                    high = float(tmp_scale[idx2+1:idx3])\n",
    "                else:\n",
    "                    high = float(tmp_scale[idx1+1:])\n",
    "            else:\n",
    "                low, high = tmp_scale[0].split('-')\n",
    "                low, high = float(low), float(high)\n",
    "\n",
    "            # (1) 统计不合上下值范围的数据，并进行修正\n",
    "            count_low_idx = np.where(var_data_285[:,j]<low)[0]\n",
    "            count_high_idx = np.where(var_data_285[:,j]>high)[0]\n",
    "            \n",
    "            if len(count_low_idx) != 0:\n",
    "                var_data_285[count_low_idx,j] = low\n",
    "                sum1 += 1\n",
    "            if len(count_high_idx) != 0:\n",
    "                var_data_285[count_high_idx,j] = high\n",
    "                sum1 += 1\n",
    "\n",
    "            # (2) 找到缺失值小于40%的数据列并进行滑动窗口缺失值补充\n",
    "            count_nan_idx = np.where(var_data_285[:,j] == 0)[0]\n",
    "            if 0< len(count_nan_idx) <= 16:\n",
    "                update_idx.append(j)\n",
    "                for i in count_nan_idx:\n",
    "#                     print(var_data_285[i,j], '-->')\n",
    "                    var_data_285[i,j] = np.mean(var_data_285[i-4:i+4,j])\n",
    "                    sum2 += 1\n",
    "#                     print(var_data_285[i,j])\n",
    "            \n",
    "            # (3) 基于拉依达准则进行异常值的剔除\n",
    "            mean = np.mean(var_data_285[:,j])\n",
    "            std = np.std(var_data_285[:,j])\n",
    "            lower = mean - 3*std\n",
    "            higher = mean + 3*std\n",
    "            \n",
    "            count_lower_idx = np.where(var_data_285[:,j]<lower)[0]\n",
    "            count_higher_idx = np.where(var_data_285[:,j]>higher)[0]\n",
    "            if len(count_lower_idx) != 0:\n",
    "                var_data_285[count_lower_idx,j] = low\n",
    "                sum3 += 1\n",
    "            if len(count_higher_idx) != 0:\n",
    "                var_data_285[count_higher_idx,j] = high\n",
    "                sum3 += 1\n",
    "    \n",
    "    return var_data_285, update_idx, sum1, sum2, sum3\n",
    "\n",
    "prep_data_285, update_idx_285, sum1, sum2, sum3 = preprocess(var_data_285)\n",
    "prep_data_285 = np.mean(prep_data_285, axis=0)\n",
    "print('num_285:', sum1, sum2, sum3)\n",
    "\n",
    "prep_data_313, update_idx_313, sum1, sum2, sum3 = preprocess(var_data_313)\n",
    "prep_data_313= np.mean(prep_data_313, axis=0)\n",
    "print('num_313:',sum1, sum2, sum3)"
   ]
  },
  {
   "cell_type": "code",
   "execution_count": 12,
   "metadata": {},
   "outputs": [
    {
     "name": "stdout",
     "output_type": "stream",
     "text": [
      "313好样本，通过缺失值(<=40%)补充的样本数据名称有： ['S-ZORB.PC_6001.PV', 'S-ZORB.FC_2432.DACA', 'S-ZORB.PDI_2801.DACA', 'S-ZORB.PDI_2301.DACA', 'S-ZORB.FC_2432.PIDA.SP', 'S-ZORB.FT_1204.DACA.PV']\n"
     ]
    }
   ],
   "source": [
    "print('313好样本，通过缺失值(<=40%)补充的样本数据名称有：', list(DF_313.columns[np.array(update_idx_313) + 1]))"
   ]
  },
  {
   "cell_type": "code",
   "execution_count": 13,
   "metadata": {},
   "outputs": [
    {
     "name": "stdout",
     "output_type": "stream",
     "text": [
      "统计285和313最终抛弃掉的样本点数据名称为： ['S-ZORB.FC_1202.PV', 'S-ZORB.TEX_3103A.DACA', 'S-ZORB.FT_5102.DACA.PV', 'S-ZORB.FC_1104.DACA', 'S-ZORB.FT_1204.PV', 'S-ZORB.FT_5102.PV', 'S-ZORB.FT_2803.DACA', 'S-ZORB.FT_1002.PV', 'S-ZORB.FT_2431.DACA', 'S-ZORB.FT_2901.DACA', 'S-ZORB.FT_1502.DACA', 'S-ZORB.FT_1501.PV', 'S-ZORB.FT_1501.TOTAL']\n"
     ]
    }
   ],
   "source": [
    "lost_data_idx = list((set(np.where(np.array(stats_285))[0]) | set(np.where(np.array(stats_313))[0])) - set(update_idx_313))\n",
    "\n",
    "print('统计285和313最终抛弃掉的样本点数据名称为：', list(DF_313.columns[np.array(lost_data_idx) + 1]))"
   ]
  },
  {
   "cell_type": "code",
   "execution_count": 14,
   "metadata": {},
   "outputs": [
    {
     "data": {
      "text/html": [
       "<div>\n",
       "<style scoped>\n",
       "    .dataframe tbody tr th:only-of-type {\n",
       "        vertical-align: middle;\n",
       "    }\n",
       "\n",
       "    .dataframe tbody tr th {\n",
       "        vertical-align: top;\n",
       "    }\n",
       "\n",
       "    .dataframe thead th {\n",
       "        text-align: right;\n",
       "    }\n",
       "</style>\n",
       "<table border=\"1\" class=\"dataframe\">\n",
       "  <thead>\n",
       "    <tr style=\"text-align: right;\">\n",
       "      <th></th>\n",
       "      <th>样本编号</th>\n",
       "      <th>时间</th>\n",
       "      <th>硫含量,μg/g</th>\n",
       "      <th>辛烷值RON</th>\n",
       "      <th>饱和烃,v%（烷烃+环烷烃）</th>\n",
       "      <th>烯烃,v%</th>\n",
       "      <th>芳烃,v%</th>\n",
       "      <th>溴值\n",
       ",gBr/100g</th>\n",
       "      <th>密度(20℃),\n",
       "kg/m³</th>\n",
       "      <th>硫含量,μg/g.1</th>\n",
       "      <th>...</th>\n",
       "      <th>S-ZORB.CAL_1.CANGLIANG.PV</th>\n",
       "      <th>S-ZORB.FT_1006.DACA.PV</th>\n",
       "      <th>S-ZORB.FT_5204.DACA.PV</th>\n",
       "      <th>S-ZORB.FT_1006.TOTALIZERA.PV</th>\n",
       "      <th>S-ZORB.FT_5204.TOTALIZERA.PV</th>\n",
       "      <th>S-ZORB.FT_1503.DACA.PV</th>\n",
       "      <th>S-ZORB.FT_1503.TOTALIZERA.PV</th>\n",
       "      <th>S-ZORB.FT_1504.DACA.PV</th>\n",
       "      <th>S-ZORB.FT_1504.TOTALIZERA.PV</th>\n",
       "      <th>S-ZORB.PC_1001A.PV</th>\n",
       "    </tr>\n",
       "  </thead>\n",
       "  <tbody>\n",
       "    <tr>\n",
       "      <th>0</th>\n",
       "      <td>1</td>\n",
       "      <td>2020/5/26 8:00:00</td>\n",
       "      <td>188.0</td>\n",
       "      <td>90.6</td>\n",
       "      <td>53.230000</td>\n",
       "      <td>24.400000</td>\n",
       "      <td>22.370000</td>\n",
       "      <td>61.487143</td>\n",
       "      <td>726.085714</td>\n",
       "      <td>3.2</td>\n",
       "      <td>...</td>\n",
       "      <td>2.045436</td>\n",
       "      <td>6368.74700</td>\n",
       "      <td>233.310805</td>\n",
       "      <td>83086802.0</td>\n",
       "      <td>832503.795</td>\n",
       "      <td>2216.40935</td>\n",
       "      <td>39063124.5</td>\n",
       "      <td>1840.14470</td>\n",
       "      <td>39608757.0</td>\n",
       "      <td>0.353271</td>\n",
       "    </tr>\n",
       "    <tr>\n",
       "      <th>1</th>\n",
       "      <td>2</td>\n",
       "      <td>2020/5/21 8:00:00</td>\n",
       "      <td>169.0</td>\n",
       "      <td>90.5</td>\n",
       "      <td>52.300000</td>\n",
       "      <td>26.400000</td>\n",
       "      <td>21.300000</td>\n",
       "      <td>61.880000</td>\n",
       "      <td>731.300000</td>\n",
       "      <td>3.2</td>\n",
       "      <td>...</td>\n",
       "      <td>2.025974</td>\n",
       "      <td>6360.64530</td>\n",
       "      <td>242.369205</td>\n",
       "      <td>82318954.0</td>\n",
       "      <td>803462.665</td>\n",
       "      <td>2370.58740</td>\n",
       "      <td>38810581.5</td>\n",
       "      <td>1641.73260</td>\n",
       "      <td>39389299.0</td>\n",
       "      <td>0.354504</td>\n",
       "    </tr>\n",
       "    <tr>\n",
       "      <th>2</th>\n",
       "      <td>3</td>\n",
       "      <td>2020/5/19 8:00:00</td>\n",
       "      <td>177.0</td>\n",
       "      <td>90.7</td>\n",
       "      <td>52.300000</td>\n",
       "      <td>26.314286</td>\n",
       "      <td>21.385714</td>\n",
       "      <td>61.722857</td>\n",
       "      <td>729.614286</td>\n",
       "      <td>3.2</td>\n",
       "      <td>...</td>\n",
       "      <td>1.964696</td>\n",
       "      <td>6504.96490</td>\n",
       "      <td>233.076925</td>\n",
       "      <td>82012004.0</td>\n",
       "      <td>791925.055</td>\n",
       "      <td>2326.46535</td>\n",
       "      <td>38693812.0</td>\n",
       "      <td>1600.67575</td>\n",
       "      <td>39312616.5</td>\n",
       "      <td>0.350181</td>\n",
       "    </tr>\n",
       "    <tr>\n",
       "      <th>3</th>\n",
       "      <td>4</td>\n",
       "      <td>2020/5/14 8:00:00</td>\n",
       "      <td>159.0</td>\n",
       "      <td>90.4</td>\n",
       "      <td>52.300000</td>\n",
       "      <td>26.100000</td>\n",
       "      <td>21.600000</td>\n",
       "      <td>61.330000</td>\n",
       "      <td>725.400000</td>\n",
       "      <td>3.2</td>\n",
       "      <td>...</td>\n",
       "      <td>2.039041</td>\n",
       "      <td>6506.82495</td>\n",
       "      <td>238.349935</td>\n",
       "      <td>81231373.5</td>\n",
       "      <td>762863.810</td>\n",
       "      <td>2495.22360</td>\n",
       "      <td>38410862.5</td>\n",
       "      <td>1563.71215</td>\n",
       "      <td>39120204.5</td>\n",
       "      <td>0.353930</td>\n",
       "    </tr>\n",
       "    <tr>\n",
       "      <th>4</th>\n",
       "      <td>5</td>\n",
       "      <td>2020/5/12 8:00:00</td>\n",
       "      <td>173.0</td>\n",
       "      <td>89.6</td>\n",
       "      <td>52.242857</td>\n",
       "      <td>26.671429</td>\n",
       "      <td>21.085714</td>\n",
       "      <td>61.332857</td>\n",
       "      <td>725.428571</td>\n",
       "      <td>3.2</td>\n",
       "      <td>...</td>\n",
       "      <td>1.986900</td>\n",
       "      <td>6560.24225</td>\n",
       "      <td>236.576220</td>\n",
       "      <td>80915707.5</td>\n",
       "      <td>751362.300</td>\n",
       "      <td>2807.78910</td>\n",
       "      <td>38283000.0</td>\n",
       "      <td>1554.35740</td>\n",
       "      <td>39045953.5</td>\n",
       "      <td>0.358053</td>\n",
       "    </tr>\n",
       "  </tbody>\n",
       "</table>\n",
       "<p>5 rows × 370 columns</p>\n",
       "</div>"
      ],
      "text/plain": [
       "   样本编号                 时间  硫含量,μg/g  辛烷值RON  饱和烃,v%（烷烃+环烷烃）      烯烃,v%  \\\n",
       "0     1  2020/5/26 8:00:00     188.0    90.6       53.230000  24.400000   \n",
       "1     2  2020/5/21 8:00:00     169.0    90.5       52.300000  26.400000   \n",
       "2     3  2020/5/19 8:00:00     177.0    90.7       52.300000  26.314286   \n",
       "3     4  2020/5/14 8:00:00     159.0    90.4       52.300000  26.100000   \n",
       "4     5  2020/5/12 8:00:00     173.0    89.6       52.242857  26.671429   \n",
       "\n",
       "       芳烃,v%  溴值\\n,gBr/100g  密度(20℃),\\nkg/m³  硫含量,μg/g.1  ...  \\\n",
       "0  22.370000      61.487143       726.085714         3.2  ...   \n",
       "1  21.300000      61.880000       731.300000         3.2  ...   \n",
       "2  21.385714      61.722857       729.614286         3.2  ...   \n",
       "3  21.600000      61.330000       725.400000         3.2  ...   \n",
       "4  21.085714      61.332857       725.428571         3.2  ...   \n",
       "\n",
       "   S-ZORB.CAL_1.CANGLIANG.PV  S-ZORB.FT_1006.DACA.PV  S-ZORB.FT_5204.DACA.PV  \\\n",
       "0                   2.045436              6368.74700              233.310805   \n",
       "1                   2.025974              6360.64530              242.369205   \n",
       "2                   1.964696              6504.96490              233.076925   \n",
       "3                   2.039041              6506.82495              238.349935   \n",
       "4                   1.986900              6560.24225              236.576220   \n",
       "\n",
       "   S-ZORB.FT_1006.TOTALIZERA.PV  S-ZORB.FT_5204.TOTALIZERA.PV  \\\n",
       "0                    83086802.0                    832503.795   \n",
       "1                    82318954.0                    803462.665   \n",
       "2                    82012004.0                    791925.055   \n",
       "3                    81231373.5                    762863.810   \n",
       "4                    80915707.5                    751362.300   \n",
       "\n",
       "   S-ZORB.FT_1503.DACA.PV  S-ZORB.FT_1503.TOTALIZERA.PV  \\\n",
       "0              2216.40935                    39063124.5   \n",
       "1              2370.58740                    38810581.5   \n",
       "2              2326.46535                    38693812.0   \n",
       "3              2495.22360                    38410862.5   \n",
       "4              2807.78910                    38283000.0   \n",
       "\n",
       "   S-ZORB.FT_1504.DACA.PV  S-ZORB.FT_1504.TOTALIZERA.PV  S-ZORB.PC_1001A.PV  \n",
       "0              1840.14470                    39608757.0            0.353271  \n",
       "1              1641.73260                    39389299.0            0.354504  \n",
       "2              1600.67575                    39312616.5            0.350181  \n",
       "3              1563.71215                    39120204.5            0.353930  \n",
       "4              1554.35740                    39045953.5            0.358053  \n",
       "\n",
       "[5 rows x 370 columns]"
      ]
     },
     "execution_count": 14,
     "metadata": {},
     "output_type": "execute_result"
    }
   ],
   "source": [
    "DF = pd.read_excel(PATH + '附件一：325个样本数据.xlsx')\n",
    "DF.head()"
   ]
  },
  {
   "cell_type": "code",
   "execution_count": 15,
   "metadata": {},
   "outputs": [],
   "source": [
    "data = DF.values"
   ]
  },
  {
   "cell_type": "code",
   "execution_count": 16,
   "metadata": {},
   "outputs": [],
   "source": [
    "add_285 = np.array([199,89.3,60.06,14.93,25.02,53,726.5,    3.2,88.1,0, 3.61,4.8,1.25,3.37], dtype=np.float).reshape((1,-1))\n",
    "add_313 = np.array([392,55.05,90.3,20.89,24.06,59.09,725.2, 8.5,88.9,0, 3.77,9.24,3.45,7.29], dtype=np.float).reshape((1,-1))"
   ]
  },
  {
   "cell_type": "code",
   "execution_count": 17,
   "metadata": {},
   "outputs": [],
   "source": [
    "ADD_285 = np.hstack((add_285, prep_data_285.reshape((1,-1))))\n",
    "ADD_313 = np.hstack((add_313, prep_data_313.reshape((1,-1))))\n",
    "\n",
    "data[284,2:] = ADD_285\n",
    "data[312,2:] = ADD_313"
   ]
  },
  {
   "cell_type": "code",
   "execution_count": 18,
   "metadata": {},
   "outputs": [
    {
     "name": "stdout",
     "output_type": "stream",
     "text": [
      "通过285和313抛弃的数据有： [ 24  45  73  95 108 109 150 174 204 207 215 298 331]\n",
      "通过所有抛弃的数据有： [ 12  24  25  27  45  73  77  88  95 109 150 204 207 215 222 298 331 345\n",
      " 346]\n",
      "二者共同的存在的有： [ 24  45  73  95 109 150 204 207 215 298 331]\n",
      "\n",
      " [ 12  24  25  27  45  73  77  88  95 108 109 150 174 204 207 215 222 298\n",
      " 331 345 346]\n"
     ]
    }
   ],
   "source": [
    "print('通过285和313抛弃的数据有：', np.sort(lost_data_idx))\n",
    "data_nan_idx = []\n",
    "for j in range(len(ADD_285)+1, data.shape[1]):\n",
    "    nan_idx = np.where(data[:,j] == 0)[0]\n",
    "    nan_ratio = len(nan_idx) / data.shape[0]\n",
    "    if nan_ratio > 0.1:\n",
    "        data_nan_idx.append(j-16)\n",
    "        data[:,j] = 0\n",
    "    else:\n",
    "        for idx in nan_idx:\n",
    "            data[idx, j] = np.mean(data[idx-5:idx+5, j])\n",
    "print('通过所有抛弃的数据有：', np.sort(data_nan_idx))\n",
    "print('二者共同的存在的有：', np.sort(list(set(data_nan_idx) & set(lost_data_idx))))\n",
    "\n",
    "\n",
    "whole_nan_idx = np.sort(list(set(lost_data_idx) | set(data_nan_idx)))\n",
    "\n",
    "print('\\n', whole_nan_idx)"
   ]
  },
  {
   "cell_type": "code",
   "execution_count": 19,
   "metadata": {},
   "outputs": [
    {
     "name": "stderr",
     "output_type": "stream",
     "text": [
      "/Users/zachary/Desktop/AnacPython/lib/python3.7/site-packages/numpy/lib/function_base.py:2530: RuntimeWarning: invalid value encountered in true_divide\n",
      "  c /= stddev[:, None]\n",
      "/Users/zachary/Desktop/AnacPython/lib/python3.7/site-packages/numpy/lib/function_base.py:2531: RuntimeWarning: invalid value encountered in true_divide\n",
      "  c /= stddev[None, :]\n"
     ]
    }
   ],
   "source": [
    "original_ROM = np.array(data[:,3], dtype=np.float64)\n",
    "processed_ROM = np.array(data[:,10], dtype=np.float64)\n",
    "\n",
    "def cal_coff(data, original_ROM):\n",
    "    related_idx0, unrelated_idx0 = [], []\n",
    "    for j in range(16,data.shape[1]):\n",
    "        tmp = np.array(data[:,j], dtype=np.float64)\n",
    "        coff = np.corrcoef(tmp, original_ROM)\n",
    "        if (j-16) in whole_nan_idx:\n",
    "            if np.isnan(coff[0,1]):\n",
    "                unrelated_idx0.append(0)\n",
    "            else:\n",
    "                unrelated_idx0.append(float(coff[0,1]))\n",
    "        else:\n",
    "            if np.isnan(coff[0,1]):\n",
    "                related_idx0.append(0)\n",
    "            else:\n",
    "                related_idx0.append(abs(float(coff[0,1])))\n",
    "    return related_idx0, unrelated_idx0\n",
    "\n",
    "related_idx0, unrelated_idx0 = cal_coff(data, original_ROM)\n",
    "related_idx1, unrelated_idx1= cal_coff(data, processed_ROM)\n"
   ]
  },
  {
   "cell_type": "code",
   "execution_count": 20,
   "metadata": {},
   "outputs": [
    {
     "name": "stdout",
     "output_type": "stream",
     "text": [
      "原料RON与所有数据的平均皮尔逊相关洗系数：0.0559\n",
      "原料RON与各丢弃样本数据的皮尔逊相关洗系数： [0, 0, 0, 0, 0, 0, 0, 0, 0, 0.012718566586495905, 0, 0, -0.032182749224248006, 0, 0, 0, 0, 0, 0, 0, 0]\n",
      "原料RON与所有数据的平均皮尔逊相关洗系数：0.1538\n",
      "原料RON与各丢弃样本数据的皮尔逊相关洗系数： [0, 0, 0, 0, 0, 0, 0, 0, 0, 0.04561784850378039, 0, 0, -0.15231758810262055, 0, 0, 0, 0, 0, 0, 0, 0]\n"
     ]
    }
   ],
   "source": [
    "print('原料RON与所有数据的平均皮尔逊相关洗系数：{0:.4f}'.format(np.mean(related_idx0)))\n",
    "print('原料RON与各丢弃样本数据的皮尔逊相关洗系数：', unrelated_idx0)\n",
    "\n",
    "print('原料RON与所有数据的平均皮尔逊相关洗系数：{0:.4f}'.format(np.mean(related_idx1)))\n",
    "print('原料RON与各丢弃样本数据的皮尔逊相关洗系数：', unrelated_idx1)"
   ]
  },
  {
   "cell_type": "code",
   "execution_count": 21,
   "metadata": {},
   "outputs": [],
   "source": [
    "data[:, np.array(whole_nan_idx)+16] = 0"
   ]
  },
  {
   "cell_type": "code",
   "execution_count": 22,
   "metadata": {},
   "outputs": [],
   "source": [
    "col_name = list(DF.columns)\n",
    "DF = pd.DataFrame(data)\n",
    "DF.columns = col_name\n",
    "\n",
    "DF.to_excel(PATH + 'processed_data.xlsx')"
   ]
  },
  {
   "cell_type": "code",
   "execution_count": 23,
   "metadata": {},
   "outputs": [],
   "source": [
    "prep_data_313, update_idx_313, sum1, sum2, sum3 = preprocess(data[:,16:])"
   ]
  },
  {
   "cell_type": "code",
   "execution_count": null,
   "metadata": {},
   "outputs": [],
   "source": []
  }
 ],
 "metadata": {
  "kernelspec": {
   "display_name": "Python 3",
   "language": "python",
   "name": "python3"
  },
  "language_info": {
   "codemirror_mode": {
    "name": "ipython",
    "version": 3
   },
   "file_extension": ".py",
   "mimetype": "text/x-python",
   "name": "python",
   "nbconvert_exporter": "python",
   "pygments_lexer": "ipython3",
   "version": "3.7.0"
  }
 },
 "nbformat": 4,
 "nbformat_minor": 2
}
